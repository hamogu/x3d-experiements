{
 "cells": [
  {
   "cell_type": "code",
   "execution_count": 1,
   "id": "69bbf756",
   "metadata": {},
   "outputs": [
    {
     "name": "stdout",
     "output_type": "stream",
     "text": [
      "x3d.py package loaded, have fun with X3D Graphics!\n"
     ]
    }
   ],
   "source": [
    "from x3d import x3d"
   ]
  },
  {
   "cell_type": "code",
   "execution_count": 2,
   "id": "ada90434",
   "metadata": {},
   "outputs": [],
   "source": [
    "class Scene(x3d.Scene):\n",
    "    js_source = 'https://www.x3dom.org/download/x3dom.js'\n",
    "    css_source = 'https://www.x3dom.org/download/x3dom.css'\n",
    "    dimension_px = (600, 400)\n",
    "\n",
    "    def _repr_html_(self):\n",
    "\n",
    "        return(f\"\"\"\n",
    "<html>\n",
    "  <head>\n",
    "    <meta http-equiv=\"X-UA-Compatible\" content=\"IE=edge\"/> \n",
    "     <script type='text/javascript' src='{self.js_source}'> </script> \n",
    "     <link rel='stylesheet' type='text/css' href='{self.css_source}'></link> \n",
    "  </head>\n",
    "  <body>\n",
    "    <x3d width='{self.dimension_px[0]}px' height='{self.dimension_px[1]}px'> \n",
    "      {self.XML()}\n",
    "    </x3d>\n",
    "  </body>\n",
    "</html>\n",
    "\"\"\")"
   ]
  },
  {
   "cell_type": "code",
   "execution_count": 3,
   "id": "6118c001",
   "metadata": {},
   "outputs": [],
   "source": [
    "myscene = Scene(children=[\n",
    "    x3d.Shape(appearance=x3d.Appearance(material=x3d.Material(diffuseColor=(.5, .2, .7))),\n",
    "              geometry=x3d.Box())\n",
    "              ]\n",
    "    )"
   ]
  },
  {
   "cell_type": "code",
   "execution_count": 4,
   "id": "9d2d63bf",
   "metadata": {},
   "outputs": [
    {
     "name": "stdout",
     "output_type": "stream",
     "text": [
      "<Scene>\n",
      "  <Shape>\n",
      "    <Appearance>\n",
      "      <Material diffuseColor='0.5 0.2 0.7'/>\n",
      "    </Appearance>\n",
      "    <Box/>\n",
      "  </Shape>\n",
      "</Scene>\n",
      "\n"
     ]
    }
   ],
   "source": [
    "print(myscene.XML())"
   ]
  },
  {
   "cell_type": "code",
   "execution_count": 5,
   "id": "91cb2793",
   "metadata": {},
   "outputs": [
    {
     "data": {
      "text/html": [
       "\n",
       "<html>\n",
       "  <head>\n",
       "    <meta http-equiv=\"X-UA-Compatible\" content=\"IE=edge\"/> \n",
       "     <script type='text/javascript' src='https://www.x3dom.org/download/x3dom.js'> </script> \n",
       "     <link rel='stylesheet' type='text/css' href='https://www.x3dom.org/download/x3dom.css'></link> \n",
       "  </head>\n",
       "  <body>\n",
       "    <x3d width='600px' height='400px'> \n",
       "      <Scene>\n",
       "  <Shape>\n",
       "    <Appearance>\n",
       "      <Material diffuseColor='0.5 0.2 0.7'/>\n",
       "    </Appearance>\n",
       "    <Box/>\n",
       "  </Shape>\n",
       "</Scene>\n",
       "\n",
       "    </x3d>\n",
       "  </body>\n",
       "</html>\n"
      ],
      "text/plain": [
       "<__main__.Scene at 0x10460cd30>"
      ]
     },
     "execution_count": 5,
     "metadata": {},
     "output_type": "execute_result"
    }
   ],
   "source": [
    "myscene"
   ]
  }
 ],
 "metadata": {
  "kernelspec": {
   "display_name": "Python 3 (ipykernel)",
   "language": "python",
   "name": "python3"
  },
  "language_info": {
   "codemirror_mode": {
    "name": "ipython",
    "version": 3
   },
   "file_extension": ".py",
   "mimetype": "text/x-python",
   "name": "python",
   "nbconvert_exporter": "python",
   "pygments_lexer": "ipython3",
   "version": "3.10.1"
  }
 },
 "nbformat": 4,
 "nbformat_minor": 5
}
